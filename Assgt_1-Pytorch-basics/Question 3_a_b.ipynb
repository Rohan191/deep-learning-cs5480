{
 "cells": [
  {
   "cell_type": "markdown",
   "metadata": {},
   "source": [
    "# Question 3.a"
   ]
  },
  {
   "cell_type": "code",
   "execution_count": 9,
   "metadata": {},
   "outputs": [],
   "source": [
    "from __future__ import print_function\n",
    "\n",
    "import torch\n",
    "import torch.nn as nn\n",
    "import torch.nn.functional as F\n",
    "import torch.optim as optim\n",
    "from torchvision import datasets, transforms\n",
    "from torch.autograd import Variable\n",
    "import matplotlib.pyplot as plt\n",
    "%matplotlib inline"
   ]
  },
  {
   "cell_type": "code",
   "execution_count": 2,
   "metadata": {},
   "outputs": [],
   "source": [
    "seed = 1\n",
    "log_interval = 10\n",
    "batch_size = 64\n",
    "test_batch_size = 1000\n",
    "torch.manual_seed(seed)\n",
    "\n",
    "train_loader = torch.utils.data.DataLoader(\n",
    "    datasets.MNIST('../data', train=True, download=True,\n",
    "                   transform=transforms.Compose([\n",
    "                       transforms.ToTensor(),\n",
    "                       transforms.Normalize((0.1307,), (0.3081,))\n",
    "                   ])),\n",
    "    batch_size=batch_size, shuffle=True)\n",
    "test_loader = torch.utils.data.DataLoader(\n",
    "    datasets.MNIST('../data', train=False, transform=transforms.Compose([\n",
    "                       transforms.ToTensor(),\n",
    "                       transforms.Normalize((0.1307,), (0.3081,))\n",
    "                   ])),\n",
    "    batch_size=test_batch_size, shuffle=True)\n"
   ]
  },
  {
   "cell_type": "code",
   "execution_count": 3,
   "metadata": {},
   "outputs": [],
   "source": [
    "# Training settings\n",
    "epochs = 9\n",
    "lr = 0.1\n",
    "\n",
    "class Net(nn.Module):\n",
    "    def __init__(self):\n",
    "        super(Net, self).__init__()\n",
    "        self.conv1 = nn.Conv2d(1, 10, kernel_size=5)\n",
    "        self.conv2 = nn.Conv2d(10, 20, kernel_size=5)\n",
    "        self.conv2_drop = nn.Dropout2d()\n",
    "        self.fc1 = nn.Linear(320, 50)\n",
    "        self.fc2 = nn.Linear(50, 10)\n",
    "\n",
    "    def forward(self, x):\n",
    "        x = F.relu(F.max_pool2d(self.conv1(x), 2))\n",
    "        x = F.relu(F.max_pool2d(self.conv2_drop(self.conv2(x)), 2))\n",
    "        x = x.view(-1, 320)\n",
    "        x = F.relu(self.fc1(x))\n",
    "        x = F.dropout(x, training=self.training)\n",
    "        x = self.fc2(x)\n",
    "        return F.log_softmax(x)\n",
    "\n",
    "model = Net()\n",
    "\n",
    "optimizer = optim.SGD(model.parameters(), lr=lr)"
   ]
  },
  {
   "cell_type": "code",
   "execution_count": 6,
   "metadata": {
    "scrolled": true
   },
   "outputs": [
    {
     "name": "stderr",
     "output_type": "stream",
     "text": [
      "/anaconda/lib/python3.6/site-packages/ipykernel_launcher.py:21: UserWarning: Implicit dimension choice for log_softmax has been deprecated. Change the call to include dim=X as an argument.\n"
     ]
    },
    {
     "name": "stdout",
     "output_type": "stream",
     "text": [
      "Train loss for epoch:1: 0.1445738951206954\n",
      "Accuracy: 95.62\n",
      "Avg Test loss: 0.14839309006929396\n",
      "Train loss for epoch:2: 0.14359392654170583\n",
      "Accuracy: 95.80\n",
      "Avg Test loss: 0.1483381763100624\n",
      "Train loss for epoch:3: 0.1396406494519874\n",
      "Accuracy: 96.14\n",
      "Avg Test loss: 0.14087455049157144\n",
      "Train loss for epoch:4: 0.1361090848738673\n",
      "Accuracy: 95.34\n",
      "Avg Test loss: 0.16009698957204818\n",
      "Train loss for epoch:5: 0.13229596595972903\n",
      "Accuracy: 96.55\n",
      "Avg Test loss: 0.12261295318603516\n",
      "Train loss for epoch:6: 0.13283343903515846\n",
      "Accuracy: 96.20\n",
      "Avg Test loss: 0.12719205915927886\n",
      "Train loss for epoch:7: 0.1262872539307259\n",
      "Accuracy: 96.15\n",
      "Avg Test loss: 0.12773193046450615\n",
      "Train loss for epoch:8: 0.12612260686857169\n",
      "Accuracy: 95.81\n",
      "Avg Test loss: 0.14521103650331496\n",
      "Train loss for epoch:9: 0.1270634271919346\n",
      "Accuracy: 96.37\n",
      "Avg Test loss: 0.1246478572487831\n"
     ]
    }
   ],
   "source": [
    "def train(epoch):\n",
    "    model.train()\n",
    "    batch_count = 0\n",
    "    total_loss = 0\n",
    "    for batch_idx, (data, target) in enumerate(train_loader):\n",
    "        data, target = Variable(data), Variable(target)\n",
    "        optimizer.zero_grad()\n",
    "        output = model(data)\n",
    "        loss = F.nll_loss(output, target)\n",
    "        total_loss += loss.data[0]\n",
    "        batch_count +=1\n",
    "        loss.backward()\n",
    "        optimizer.step()\n",
    "        #if batch_idx % log_interval == 0:\n",
    "            #print('Train Epoch: {} [{}/{} ({:.0f}%)]\\tLoss: {:.6f}'.format(\n",
    "            #    epoch, batch_idx * len(data), len(train_loader.dataset),\n",
    "            #    100. * batch_idx / len(train_loader), loss.data[0]))\n",
    "    avg_loss = total_loss/batch_count\n",
    "    print('Train loss for epoch:{0}: {1}'.format(epoch, avg_loss))\n",
    "    return avg_loss\n",
    "\n",
    "\n",
    "def test():\n",
    "    # TODO: Test the model on the test-set and report the loss and accuracy.\n",
    "    correct = 0\n",
    "    total = 0\n",
    "    total_loss = 0\n",
    "    batch_count = 0\n",
    "    \n",
    "    # Loop through the test loader in batches of 1000\n",
    "    for data in test_loader:\n",
    "        images, labels = data\n",
    "        #images, labels = Variable(images), Variable(labels)\n",
    "        output = model(Variable(images))\n",
    "        \n",
    "        # Calculate NLL loss\n",
    "        loss = F.nll_loss(output, Variable(labels))\n",
    "\n",
    "        # Add it to the total loss\n",
    "        total_loss += loss.data[0]\n",
    "        batch_count += 1\n",
    "        \n",
    "        # Calculate class predictions\n",
    "        _, prediction = torch.max(output.data, 1)\n",
    "        batch_corr = (prediction == labels).sum()\n",
    "        #print('Batch correct: {0}, Batch size: {1}'.format(batch_corr, labels.size(0)))\n",
    "        correct += batch_corr\n",
    "        total += labels.size(0)\n",
    "\n",
    "    acc = 100*correct/total\n",
    "    print('Accuracy: {:.2f}'.format(acc))\n",
    "    avg_loss = total_loss/batch_count\n",
    "    print('Avg Test loss: {0}'.format(avg_loss))\n",
    "    return avg_loss\n",
    "    \n",
    "train_loss = []\n",
    "test_loss = []\n",
    "for epoch in range(1, epochs + 1):\n",
    "    train_loss.append(train(epoch))\n",
    "    test_loss.append(test())\n",
    "                 \n"
   ]
  },
  {
   "cell_type": "code",
   "execution_count": 13,
   "metadata": {},
   "outputs": [
    {
     "data": {
      "text/plain": [
       "<matplotlib.text.Text at 0x13498d3278>"
      ]
     },
     "execution_count": 13,
     "metadata": {},
     "output_type": "execute_result"
    },
    {
     "data": {
      "image/png": "[encoded data removed]",
      "text/plain": [
       "<matplotlib.figure.Figure at 0x126def0828>"
      ]
     },
     "metadata": {},
     "output_type": "display_data"
    }
   ],
   "source": [
    "plt.figure()\n",
    "plt.plot(range(1, epochs+1), train_loss, '-o', label = \"Training loss\" )\n",
    "plt.plot(range(1, epochs+1), test_loss, '-*', label = \"Test loss\")\n",
    "plt.legend()\n",
    "plt.title('Plot of train and test loss on every epoch')\n"
   ]
  },
  {
   "cell_type": "markdown",
   "metadata": {},
   "source": [
    "## Report\n",
    "\n",
    "Changes to code:\n",
    "- The test() had the code enhancements.\n",
    "- The code loops through the test loader in batches of size 1000.\n",
    "- The output is calculated using net model which returns a softmax output of probabilities.\n",
    "- Negative log likelihood loss is found based on output and labels.\n",
    "- Total loss is calculated to find average later.\n",
    "- The index of max value per row is found to assign the predicted class.\n",
    "- Correct outputs are accumulated to find accuracy later.\n",
    "- All the test and train losses are appended in a list to plot the above figure."
   ]
  },
  {
   "cell_type": "markdown",
   "metadata": {},
   "source": [
    "# Question 3.b"
   ]
  },
  {
   "cell_type": "code",
   "execution_count": 26,
   "metadata": {
    "collapsed": true
   },
   "outputs": [],
   "source": [
    "# Parameters\n",
    "epochs = 9\n",
    "batch_sizes = [64, 32, 128]\n",
    "learning_rates = [ 0.1, 0.01, 0.05, 0.5]\n",
    "momentum = [0, 0.9 ]\n",
    "weight_decay = [0, 0.1]\n",
    "dampening = [0]\n",
    "nesterov = [False]"
   ]
  },
  {
   "cell_type": "code",
   "execution_count": 22,
   "metadata": {
    "collapsed": true
   },
   "outputs": [],
   "source": [
    "class Net(nn.Module):\n",
    "    def __init__(self):\n",
    "        super(Net, self).__init__()\n",
    "        self.conv1 = nn.Conv2d(1, 10, kernel_size=5)\n",
    "        self.conv2 = nn.Conv2d(10, 20, kernel_size=5)\n",
    "        self.conv2_drop = nn.Dropout2d()\n",
    "        self.fc1 = nn.Linear(320, 50)\n",
    "        self.fc2 = nn.Linear(50, 10)\n",
    "\n",
    "    def forward(self, x):\n",
    "        x = F.relu(F.max_pool2d(self.conv1(x), 2))\n",
    "        x = F.relu(F.max_pool2d(self.conv2_drop(self.conv2(x)), 2))\n",
    "        x = x.view(-1, 320)\n",
    "        x = F.relu(self.fc1(x))\n",
    "        x = F.dropout(x, training=self.training)\n",
    "        x = self.fc2(x)\n",
    "        return F.log_softmax(x)"
   ]
  },
  {
   "cell_type": "code",
   "execution_count": 23,
   "metadata": {
    "collapsed": true
   },
   "outputs": [],
   "source": [
    "def train(train_loader):\n",
    "    model.train()\n",
    "    for batch_idx, (data, target) in enumerate(train_loader):\n",
    "        data, target = Variable(data), Variable(target)\n",
    "        optimizer.zero_grad()\n",
    "        output = model(data)\n",
    "        loss = F.nll_loss(output, target)\n",
    "        loss.backward()\n",
    "        optimizer.step()\n",
    "    return test(train_loader)\n",
    "\n",
    "\n",
    "def test(test_loader):\n",
    "    # TODO: Test the model on the test-set and report the loss and accuracy.\n",
    "    correct = 0\n",
    "    total = 0\n",
    "    total_loss = 0\n",
    "    batch_count = 0\n",
    "    for data in test_loader:\n",
    "        images, labels = data\n",
    "        #images, labels = Variable(images), Variable(labels)\n",
    "        output = model(Variable(images))\n",
    "        \n",
    "        loss = F.nll_loss(output, Variable(labels))\n",
    "        #print('Loss: {0}'.format(loss.data[0]))\n",
    "        total_loss += loss.data[0]\n",
    "        batch_count += 1\n",
    "        _, prediction = torch.max(output.data, 1)\n",
    "        batch_corr = (prediction == labels).sum()\n",
    "        #print('Batch correct: {0}, Batch size: {1}'.format(batch_corr, labels.size(0)))\n",
    "        correct += batch_corr\n",
    "        total += labels.size(0)\n",
    "\n",
    "    acc = 100*correct/total\n",
    "    #print('Accuracy: {:.2f}'.format(acc))\n",
    "    error = 100-acc\n",
    "    avg_loss = total_loss/batch_count\n",
    "    #print('Avg Test loss for epoch {0}: {1}'.format(epoch, avg_loss))\n",
    "    return avg_loss, error"
   ]
  },
  {
   "cell_type": "code",
   "execution_count": 27,
   "metadata": {
    "scrolled": false
   },
   "outputs": [
    {
     "name": "stderr",
     "output_type": "stream",
     "text": [
      "/anaconda/lib/python3.6/site-packages/ipykernel_launcher.py:17: UserWarning: Implicit dimension choice for log_softmax has been deprecated. Change the call to include dim=X as an argument.\n"
     ]
    },
    {
     "name": "stdout",
     "output_type": "stream",
     "text": [
      "Final epoch: 9, train loss: 0.14741937276611386, train error: 4.239999999999995, test error: 4.010000000000005 for parameters: batch_size = 64, lr = 0.1, momentum = 0, decay = 0, dampening = 0, nest = False\n",
      "Final epoch: 9, train loss: 0.6886434673881734, train error: 21.441666666666663, test error: 20.510000000000005 for parameters: batch_size = 64, lr = 0.1, momentum = 0, decay = 0.1, dampening = 0, nest = False\n",
      "Final epoch: 9, train loss: 2.3119377284161824, train error: 90.07, test error: 89.68 for parameters: batch_size = 64, lr = 0.1, momentum = 0.9, decay = 0, dampening = 0, nest = False\n",
      "Final epoch: 9, train loss: 1.3342442452780474, train error: 44.891666666666666, test error: 45.37 for parameters: batch_size = 64, lr = 0.1, momentum = 0.9, decay = 0.1, dampening = 0, nest = False\n",
      "Final epoch: 9, train loss: 0.22110817723198614, train error: 6.541666666666671, test error: 5.909999999999997 for parameters: batch_size = 64, lr = 0.01, momentum = 0, decay = 0, dampening = 0, nest = False\n",
      "Final epoch: 9, train loss: 0.5466606050157852, train error: 14.784999999999997, test error: 13.980000000000004 for parameters: batch_size = 64, lr = 0.01, momentum = 0, decay = 0.1, dampening = 0, nest = False\n",
      "Final epoch: 9, train loss: 0.15928342216598518, train error: 4.5716666666666725, test error: 4.459999999999994 for parameters: batch_size = 64, lr = 0.01, momentum = 0.9, decay = 0, dampening = 0, nest = False\n",
      "Final epoch: 9, train loss: 0.5438270235557292, train error: 15.376666666666665, test error: 14.200000000000003 for parameters: batch_size = 64, lr = 0.01, momentum = 0.9, decay = 0.1, dampening = 0, nest = False\n",
      "Final epoch: 9, train loss: 0.15149709151219776, train error: 4.469999999999999, test error: 4.299999999999997 for parameters: batch_size = 64, lr = 0.05, momentum = 0, decay = 0, dampening = 0, nest = False\n",
      "Final epoch: 9, train loss: 0.6037823413607917, train error: 18.35666666666667, test error: 17.58 for parameters: batch_size = 64, lr = 0.05, momentum = 0, decay = 0.1, dampening = 0, nest = False\n",
      "Final epoch: 9, train loss: 0.7476275149566024, train error: 19.635000000000005, test error: 18.120000000000005 for parameters: batch_size = 64, lr = 0.05, momentum = 0.9, decay = 0, dampening = 0, nest = False\n",
      "Final epoch: 9, train loss: 0.9188115391522836, train error: 30.316666666666663, test error: 29.680000000000007 for parameters: batch_size = 64, lr = 0.05, momentum = 0.9, decay = 0.1, dampening = 0, nest = False\n",
      "Final epoch: 9, train loss: 0.18722895141157012, train error: 5.87833333333333, test error: 5.400000000000006 for parameters: batch_size = 32, lr = 0.1, momentum = 0, decay = 0, dampening = 0, nest = False\n",
      "Final epoch: 9, train loss: 0.7277204879442851, train error: 22.53333333333333, test error: 21.849999999999994 for parameters: batch_size = 32, lr = 0.1, momentum = 0, decay = 0.1, dampening = 0, nest = False\n",
      "Final epoch: 9, train loss: 2.310955144627889, train error: 89.78166666666667, test error: 89.9 for parameters: batch_size = 32, lr = 0.1, momentum = 0.9, decay = 0, dampening = 0, nest = False\n",
      "Final epoch: 9, train loss: 2.303476532872518, train error: 89.78166666666667, test error: 89.9 for parameters: batch_size = 32, lr = 0.1, momentum = 0.9, decay = 0.1, dampening = 0, nest = False\n",
      "Final epoch: 9, train loss: 0.1714878290300568, train error: 5.034999999999997, test error: 4.489999999999995 for parameters: batch_size = 32, lr = 0.01, momentum = 0, decay = 0, dampening = 0, nest = False\n"
     ]
    },
    {
     "ename": "KeyboardInterrupt",
     "evalue": "",
     "output_type": "error",
     "traceback": [
      "\u001b[0;31m---------------------------------------------------------------------------\u001b[0m",
      "\u001b[0;31mKeyboardInterrupt\u001b[0m                         Traceback (most recent call last)",
      "\u001b[0;32m<ipython-input-27-09311e581bc9>\u001b[0m in \u001b[0;36m<module>\u001b[0;34m()\u001b[0m\n\u001b[1;32m     31\u001b[0m \u001b[0;34m\u001b[0m\u001b[0m\n\u001b[1;32m     32\u001b[0m                         \u001b[0;32mfor\u001b[0m \u001b[0mepoch\u001b[0m \u001b[0;32min\u001b[0m \u001b[0mrange\u001b[0m\u001b[0;34m(\u001b[0m\u001b[0;36m1\u001b[0m\u001b[0;34m,\u001b[0m \u001b[0mepochs\u001b[0m \u001b[0;34m+\u001b[0m \u001b[0;36m1\u001b[0m\u001b[0;34m)\u001b[0m\u001b[0;34m:\u001b[0m\u001b[0;34m\u001b[0m\u001b[0m\n\u001b[0;32m---> 33\u001b[0;31m                             \u001b[0mtrain_loss\u001b[0m\u001b[0;34m,\u001b[0m \u001b[0mtrain_error\u001b[0m \u001b[0;34m=\u001b[0m \u001b[0mtrain\u001b[0m\u001b[0;34m(\u001b[0m\u001b[0mtrain_loader\u001b[0m\u001b[0;34m)\u001b[0m\u001b[0;34m\u001b[0m\u001b[0m\n\u001b[0m\u001b[1;32m     34\u001b[0m                             \u001b[0;32mif\u001b[0m \u001b[0mtrain_loss\u001b[0m \u001b[0;34m<\u001b[0m \u001b[0;36m0.13\u001b[0m\u001b[0;34m:\u001b[0m\u001b[0;34m\u001b[0m\u001b[0m\n\u001b[1;32m     35\u001b[0m                                 \u001b[0;32mbreak\u001b[0m\u001b[0;34m\u001b[0m\u001b[0m\n",
      "\u001b[0;32m<ipython-input-23-cc8020c1c6e6>\u001b[0m in \u001b[0;36mtrain\u001b[0;34m(train_loader)\u001b[0m\n\u001b[1;32m      8\u001b[0m         \u001b[0mloss\u001b[0m\u001b[0;34m.\u001b[0m\u001b[0mbackward\u001b[0m\u001b[0;34m(\u001b[0m\u001b[0;34m)\u001b[0m\u001b[0;34m\u001b[0m\u001b[0m\n\u001b[1;32m      9\u001b[0m         \u001b[0moptimizer\u001b[0m\u001b[0;34m.\u001b[0m\u001b[0mstep\u001b[0m\u001b[0;34m(\u001b[0m\u001b[0;34m)\u001b[0m\u001b[0;34m\u001b[0m\u001b[0m\n\u001b[0;32m---> 10\u001b[0;31m     \u001b[0;32mreturn\u001b[0m \u001b[0mtest\u001b[0m\u001b[0;34m(\u001b[0m\u001b[0mtrain_loader\u001b[0m\u001b[0;34m)\u001b[0m\u001b[0;34m\u001b[0m\u001b[0m\n\u001b[0m\u001b[1;32m     11\u001b[0m \u001b[0;34m\u001b[0m\u001b[0m\n\u001b[1;32m     12\u001b[0m \u001b[0;34m\u001b[0m\u001b[0m\n",
      "\u001b[0;32m<ipython-input-23-cc8020c1c6e6>\u001b[0m in \u001b[0;36mtest\u001b[0;34m(test_loader)\u001b[0m\n\u001b[1;32m     20\u001b[0m         \u001b[0mimages\u001b[0m\u001b[0;34m,\u001b[0m \u001b[0mlabels\u001b[0m \u001b[0;34m=\u001b[0m \u001b[0mdata\u001b[0m\u001b[0;34m\u001b[0m\u001b[0m\n\u001b[1;32m     21\u001b[0m         \u001b[0;31m#images, labels = Variable(images), Variable(labels)\u001b[0m\u001b[0;34m\u001b[0m\u001b[0;34m\u001b[0m\u001b[0m\n\u001b[0;32m---> 22\u001b[0;31m         \u001b[0moutput\u001b[0m \u001b[0;34m=\u001b[0m \u001b[0mmodel\u001b[0m\u001b[0;34m(\u001b[0m\u001b[0mVariable\u001b[0m\u001b[0;34m(\u001b[0m\u001b[0mimages\u001b[0m\u001b[0;34m)\u001b[0m\u001b[0;34m)\u001b[0m\u001b[0;34m\u001b[0m\u001b[0m\n\u001b[0m\u001b[1;32m     23\u001b[0m \u001b[0;34m\u001b[0m\u001b[0m\n\u001b[1;32m     24\u001b[0m         \u001b[0mloss\u001b[0m \u001b[0;34m=\u001b[0m \u001b[0mF\u001b[0m\u001b[0;34m.\u001b[0m\u001b[0mnll_loss\u001b[0m\u001b[0;34m(\u001b[0m\u001b[0moutput\u001b[0m\u001b[0;34m,\u001b[0m \u001b[0mVariable\u001b[0m\u001b[0;34m(\u001b[0m\u001b[0mlabels\u001b[0m\u001b[0;34m)\u001b[0m\u001b[0;34m)\u001b[0m\u001b[0;34m\u001b[0m\u001b[0m\n",
      "\u001b[0;32m/anaconda/lib/python3.6/site-packages/torch/nn/modules/module.py\u001b[0m in \u001b[0;36m__call__\u001b[0;34m(self, *input, **kwargs)\u001b[0m\n\u001b[1;32m    323\u001b[0m         \u001b[0;32mfor\u001b[0m \u001b[0mhook\u001b[0m \u001b[0;32min\u001b[0m \u001b[0mself\u001b[0m\u001b[0;34m.\u001b[0m\u001b[0m_forward_pre_hooks\u001b[0m\u001b[0;34m.\u001b[0m\u001b[0mvalues\u001b[0m\u001b[0;34m(\u001b[0m\u001b[0;34m)\u001b[0m\u001b[0;34m:\u001b[0m\u001b[0;34m\u001b[0m\u001b[0m\n\u001b[1;32m    324\u001b[0m             \u001b[0mhook\u001b[0m\u001b[0;34m(\u001b[0m\u001b[0mself\u001b[0m\u001b[0;34m,\u001b[0m \u001b[0minput\u001b[0m\u001b[0;34m)\u001b[0m\u001b[0;34m\u001b[0m\u001b[0m\n\u001b[0;32m--> 325\u001b[0;31m         \u001b[0mresult\u001b[0m \u001b[0;34m=\u001b[0m \u001b[0mself\u001b[0m\u001b[0;34m.\u001b[0m\u001b[0mforward\u001b[0m\u001b[0;34m(\u001b[0m\u001b[0;34m*\u001b[0m\u001b[0minput\u001b[0m\u001b[0;34m,\u001b[0m \u001b[0;34m**\u001b[0m\u001b[0mkwargs\u001b[0m\u001b[0;34m)\u001b[0m\u001b[0;34m\u001b[0m\u001b[0m\n\u001b[0m\u001b[1;32m    326\u001b[0m         \u001b[0;32mfor\u001b[0m \u001b[0mhook\u001b[0m \u001b[0;32min\u001b[0m \u001b[0mself\u001b[0m\u001b[0;34m.\u001b[0m\u001b[0m_forward_hooks\u001b[0m\u001b[0;34m.\u001b[0m\u001b[0mvalues\u001b[0m\u001b[0;34m(\u001b[0m\u001b[0;34m)\u001b[0m\u001b[0;34m:\u001b[0m\u001b[0;34m\u001b[0m\u001b[0m\n\u001b[1;32m    327\u001b[0m             \u001b[0mhook_result\u001b[0m \u001b[0;34m=\u001b[0m \u001b[0mhook\u001b[0m\u001b[0;34m(\u001b[0m\u001b[0mself\u001b[0m\u001b[0;34m,\u001b[0m \u001b[0minput\u001b[0m\u001b[0;34m,\u001b[0m \u001b[0mresult\u001b[0m\u001b[0;34m)\u001b[0m\u001b[0;34m\u001b[0m\u001b[0m\n",
      "\u001b[0;32m<ipython-input-22-f55881f75f40>\u001b[0m in \u001b[0;36mforward\u001b[0;34m(self, x)\u001b[0m\n\u001b[1;32m     10\u001b[0m     \u001b[0;32mdef\u001b[0m \u001b[0mforward\u001b[0m\u001b[0;34m(\u001b[0m\u001b[0mself\u001b[0m\u001b[0;34m,\u001b[0m \u001b[0mx\u001b[0m\u001b[0;34m)\u001b[0m\u001b[0;34m:\u001b[0m\u001b[0;34m\u001b[0m\u001b[0m\n\u001b[1;32m     11\u001b[0m         \u001b[0mx\u001b[0m \u001b[0;34m=\u001b[0m \u001b[0mF\u001b[0m\u001b[0;34m.\u001b[0m\u001b[0mrelu\u001b[0m\u001b[0;34m(\u001b[0m\u001b[0mF\u001b[0m\u001b[0;34m.\u001b[0m\u001b[0mmax_pool2d\u001b[0m\u001b[0;34m(\u001b[0m\u001b[0mself\u001b[0m\u001b[0;34m.\u001b[0m\u001b[0mconv1\u001b[0m\u001b[0;34m(\u001b[0m\u001b[0mx\u001b[0m\u001b[0;34m)\u001b[0m\u001b[0;34m,\u001b[0m \u001b[0;36m2\u001b[0m\u001b[0;34m)\u001b[0m\u001b[0;34m)\u001b[0m\u001b[0;34m\u001b[0m\u001b[0m\n\u001b[0;32m---> 12\u001b[0;31m         \u001b[0mx\u001b[0m \u001b[0;34m=\u001b[0m \u001b[0mF\u001b[0m\u001b[0;34m.\u001b[0m\u001b[0mrelu\u001b[0m\u001b[0;34m(\u001b[0m\u001b[0mF\u001b[0m\u001b[0;34m.\u001b[0m\u001b[0mmax_pool2d\u001b[0m\u001b[0;34m(\u001b[0m\u001b[0mself\u001b[0m\u001b[0;34m.\u001b[0m\u001b[0mconv2_drop\u001b[0m\u001b[0;34m(\u001b[0m\u001b[0mself\u001b[0m\u001b[0;34m.\u001b[0m\u001b[0mconv2\u001b[0m\u001b[0;34m(\u001b[0m\u001b[0mx\u001b[0m\u001b[0;34m)\u001b[0m\u001b[0;34m)\u001b[0m\u001b[0;34m,\u001b[0m \u001b[0;36m2\u001b[0m\u001b[0;34m)\u001b[0m\u001b[0;34m)\u001b[0m\u001b[0;34m\u001b[0m\u001b[0m\n\u001b[0m\u001b[1;32m     13\u001b[0m         \u001b[0mx\u001b[0m \u001b[0;34m=\u001b[0m \u001b[0mx\u001b[0m\u001b[0;34m.\u001b[0m\u001b[0mview\u001b[0m\u001b[0;34m(\u001b[0m\u001b[0;34m-\u001b[0m\u001b[0;36m1\u001b[0m\u001b[0;34m,\u001b[0m \u001b[0;36m320\u001b[0m\u001b[0;34m)\u001b[0m\u001b[0;34m\u001b[0m\u001b[0m\n\u001b[1;32m     14\u001b[0m         \u001b[0mx\u001b[0m \u001b[0;34m=\u001b[0m \u001b[0mF\u001b[0m\u001b[0;34m.\u001b[0m\u001b[0mrelu\u001b[0m\u001b[0;34m(\u001b[0m\u001b[0mself\u001b[0m\u001b[0;34m.\u001b[0m\u001b[0mfc1\u001b[0m\u001b[0;34m(\u001b[0m\u001b[0mx\u001b[0m\u001b[0;34m)\u001b[0m\u001b[0;34m)\u001b[0m\u001b[0;34m\u001b[0m\u001b[0m\n",
      "\u001b[0;32m/anaconda/lib/python3.6/site-packages/torch/nn/modules/module.py\u001b[0m in \u001b[0;36m__call__\u001b[0;34m(self, *input, **kwargs)\u001b[0m\n\u001b[1;32m    323\u001b[0m         \u001b[0;32mfor\u001b[0m \u001b[0mhook\u001b[0m \u001b[0;32min\u001b[0m \u001b[0mself\u001b[0m\u001b[0;34m.\u001b[0m\u001b[0m_forward_pre_hooks\u001b[0m\u001b[0;34m.\u001b[0m\u001b[0mvalues\u001b[0m\u001b[0;34m(\u001b[0m\u001b[0;34m)\u001b[0m\u001b[0;34m:\u001b[0m\u001b[0;34m\u001b[0m\u001b[0m\n\u001b[1;32m    324\u001b[0m             \u001b[0mhook\u001b[0m\u001b[0;34m(\u001b[0m\u001b[0mself\u001b[0m\u001b[0;34m,\u001b[0m \u001b[0minput\u001b[0m\u001b[0;34m)\u001b[0m\u001b[0;34m\u001b[0m\u001b[0m\n\u001b[0;32m--> 325\u001b[0;31m         \u001b[0mresult\u001b[0m \u001b[0;34m=\u001b[0m \u001b[0mself\u001b[0m\u001b[0;34m.\u001b[0m\u001b[0mforward\u001b[0m\u001b[0;34m(\u001b[0m\u001b[0;34m*\u001b[0m\u001b[0minput\u001b[0m\u001b[0;34m,\u001b[0m \u001b[0;34m**\u001b[0m\u001b[0mkwargs\u001b[0m\u001b[0;34m)\u001b[0m\u001b[0;34m\u001b[0m\u001b[0m\n\u001b[0m\u001b[1;32m    326\u001b[0m         \u001b[0;32mfor\u001b[0m \u001b[0mhook\u001b[0m \u001b[0;32min\u001b[0m \u001b[0mself\u001b[0m\u001b[0;34m.\u001b[0m\u001b[0m_forward_hooks\u001b[0m\u001b[0;34m.\u001b[0m\u001b[0mvalues\u001b[0m\u001b[0;34m(\u001b[0m\u001b[0;34m)\u001b[0m\u001b[0;34m:\u001b[0m\u001b[0;34m\u001b[0m\u001b[0m\n\u001b[1;32m    327\u001b[0m             \u001b[0mhook_result\u001b[0m \u001b[0;34m=\u001b[0m \u001b[0mhook\u001b[0m\u001b[0;34m(\u001b[0m\u001b[0mself\u001b[0m\u001b[0;34m,\u001b[0m \u001b[0minput\u001b[0m\u001b[0;34m,\u001b[0m \u001b[0mresult\u001b[0m\u001b[0;34m)\u001b[0m\u001b[0;34m\u001b[0m\u001b[0m\n",
      "\u001b[0;32m/anaconda/lib/python3.6/site-packages/torch/nn/modules/conv.py\u001b[0m in \u001b[0;36mforward\u001b[0;34m(self, input)\u001b[0m\n\u001b[1;32m    275\u001b[0m     \u001b[0;32mdef\u001b[0m \u001b[0mforward\u001b[0m\u001b[0;34m(\u001b[0m\u001b[0mself\u001b[0m\u001b[0;34m,\u001b[0m \u001b[0minput\u001b[0m\u001b[0;34m)\u001b[0m\u001b[0;34m:\u001b[0m\u001b[0;34m\u001b[0m\u001b[0m\n\u001b[1;32m    276\u001b[0m         return F.conv2d(input, self.weight, self.bias, self.stride,\n\u001b[0;32m--> 277\u001b[0;31m                         self.padding, self.dilation, self.groups)\n\u001b[0m\u001b[1;32m    278\u001b[0m \u001b[0;34m\u001b[0m\u001b[0m\n\u001b[1;32m    279\u001b[0m \u001b[0;34m\u001b[0m\u001b[0m\n",
      "\u001b[0;32m/anaconda/lib/python3.6/site-packages/torch/nn/functional.py\u001b[0m in \u001b[0;36mconv2d\u001b[0;34m(input, weight, bias, stride, padding, dilation, groups)\u001b[0m\n\u001b[1;32m     88\u001b[0m                 \u001b[0m_pair\u001b[0m\u001b[0;34m(\u001b[0m\u001b[0;36m0\u001b[0m\u001b[0;34m)\u001b[0m\u001b[0;34m,\u001b[0m \u001b[0mgroups\u001b[0m\u001b[0;34m,\u001b[0m \u001b[0mtorch\u001b[0m\u001b[0;34m.\u001b[0m\u001b[0mbackends\u001b[0m\u001b[0;34m.\u001b[0m\u001b[0mcudnn\u001b[0m\u001b[0;34m.\u001b[0m\u001b[0mbenchmark\u001b[0m\u001b[0;34m,\u001b[0m\u001b[0;34m\u001b[0m\u001b[0m\n\u001b[1;32m     89\u001b[0m                 torch.backends.cudnn.deterministic, torch.backends.cudnn.enabled)\n\u001b[0;32m---> 90\u001b[0;31m     \u001b[0;32mreturn\u001b[0m \u001b[0mf\u001b[0m\u001b[0;34m(\u001b[0m\u001b[0minput\u001b[0m\u001b[0;34m,\u001b[0m \u001b[0mweight\u001b[0m\u001b[0;34m,\u001b[0m \u001b[0mbias\u001b[0m\u001b[0;34m)\u001b[0m\u001b[0;34m\u001b[0m\u001b[0m\n\u001b[0m\u001b[1;32m     91\u001b[0m \u001b[0;34m\u001b[0m\u001b[0m\n\u001b[1;32m     92\u001b[0m \u001b[0;34m\u001b[0m\u001b[0m\n",
      "\u001b[0;31mKeyboardInterrupt\u001b[0m: "
     ]
    }
   ],
   "source": [
    "for batch_size in batch_sizes:\n",
    "    for lr in learning_rates:\n",
    "        for m in momentum:\n",
    "            for decay in weight_decay:\n",
    "                for damp in dampening:\n",
    "                    for is_nest in nesterov:\n",
    "                        seed = 1\n",
    "                        log_interval = 10\n",
    "                        test_batch_size = 1000\n",
    "                        torch.manual_seed(seed)\n",
    "\n",
    "                        train_loader = torch.utils.data.DataLoader(\n",
    "                            datasets.MNIST('../data', train=True, download=True,\n",
    "                                           transform=transforms.Compose([\n",
    "                                               transforms.ToTensor(),\n",
    "                                               transforms.Normalize((0.1307,), (0.3081,))\n",
    "                                           ])),\n",
    "                            batch_size=batch_size, shuffle=True)\n",
    "                        test_loader = torch.utils.data.DataLoader(\n",
    "                            datasets.MNIST('../data', train=False, transform=transforms.Compose([\n",
    "                                               transforms.ToTensor(),\n",
    "                                               transforms.Normalize((0.1307,), (0.3081,))\n",
    "                                           ])),\n",
    "                            batch_size=test_batch_size, shuffle=True)\n",
    "                        \n",
    "                        # Initialize Model and optimizer\n",
    "                        model = Net()\n",
    "                        optimizer = optim.SGD(model.parameters(), lr = lr, momentum = m, \n",
    "                                              weight_decay = decay, dampening = damp, nesterov = is_nest)\n",
    "                        \n",
    "\n",
    "                        for epoch in range(1, epochs + 1):\n",
    "                            train_loss, train_error = train(train_loader)\n",
    "                            if train_loss < 0.13:\n",
    "                                break\n",
    "                            #test_loss.append(test())\n",
    "                        test_loss, test_error = test(test_loader)\n",
    "                        print('Final epoch: {0}, train loss: {9}, train error: {1}, test error: {2} for parameters: batch_size = {3}, lr = {4}, momentum = {5}, decay = {6}, dampening = {7}, nest = {8}'.format(epoch,\n",
    "                        train_error, test_error, batch_size, lr, m, decay, damp, is_nest, train_loss))\n",
    "                        \n",
    "\n"
   ]
  },
  {
   "cell_type": "markdown",
   "metadata": {},
   "source": [
    "## Report for 3.b\n",
    "\n",
    "- Various parameters like batch_size, learning rate, momentum, weight decay were changed to find best results. \n",
    "- Dampening and Nesterov momentum were avoided as Nesterow required momentum>0 and dampening =0. This was difficult to manage in the for loop.\n",
    "- The best parameters found are: batch_size = 64, learning rate = 0.1, momentum = 0, weight decay = 0, dampening = 0, nesterov = False.\n",
    "- The best parameters are decided based on training loss, training error and testing error."
   ]
  },
  {
   "cell_type": "code",
   "execution_count": null,
   "metadata": {
    "collapsed": true
   },
   "outputs": [],
   "source": []
  }
 ],
 "metadata": {
  "kernelspec": {
   "display_name": "Python 3",
   "language": "python",
   "name": "python3"
  },
  "language_info": {
   "codemirror_mode": {
    "name": "ipython",
    "version": 3
   },
   "file_extension": ".py",
   "mimetype": "text/x-python",
   "name": "python",
   "nbconvert_exporter": "python",
   "pygments_lexer": "ipython3",
   "version": "3.6.4"
  }
 },
 "nbformat": 4,
 "nbformat_minor": 2
}
