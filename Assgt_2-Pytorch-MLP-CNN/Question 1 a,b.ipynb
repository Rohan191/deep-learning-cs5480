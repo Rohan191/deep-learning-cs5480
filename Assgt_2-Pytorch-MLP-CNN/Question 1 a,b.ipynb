{
 "cells": [
  {
   "cell_type": "markdown",
   "metadata": {},
   "source": [
    "# Question 1.a"
   ]
  },
  {
   "cell_type": "code",
   "execution_count": 1,
   "metadata": {},
   "outputs": [
    {
     "data": {
      "text/plain": [
       "'0.3.1.post2'"
      ]
     },
     "execution_count": 1,
     "metadata": {},
     "output_type": "execute_result"
    }
   ],
   "source": [
    "import torch\n",
    "from torch.autograd import Variable\n",
    "import torch.nn as nn\n",
    "import torch.nn.functional as F\n",
    "from torch.utils.data import Dataset, DataLoader\n",
    "import torch.optim as optim\n",
    "import numpy as np\n",
    "import pandas as pd\n",
    "from sklearn.metrics import accuracy_score\n",
    "import matplotlib.pyplot as plt\n",
    "\n",
    "torch.set_printoptions(precision=10)\n",
    "torch.__version__"
   ]
  },
  {
   "cell_type": "markdown",
   "metadata": {},
   "source": [
    "## Load train and test dataset"
   ]
  },
  {
   "cell_type": "code",
   "execution_count": 3,
   "metadata": {},
   "outputs": [],
   "source": [
    "class OccupancyDataset(Dataset):\n",
    "    \"\"\" Occupancy detection dataset\"\"\"\n",
    "    \n",
    "    def __init__(self, filename):\n",
    "        self.dataset = np.loadtxt(filename, skiprows=1, dtype = object, delimiter=',')\n",
    "        \n",
    "        self.data = np.array(self.dataset[:,2:7], dtype = float)\n",
    "        self.data = (self.data - self.data.mean())/self.data.std()\n",
    "        self.data = torch.from_numpy(self.data).float()\n",
    "        \n",
    "        self.target = np.array(self.dataset[:,7], dtype = float)\n",
    "        self.target = torch.from_numpy(self.target).float()\n",
    "        \n",
    "    def __len__(self):\n",
    "        return self.data.size()[0]\n",
    "    \n",
    "    def __getitem__(self, idx):\n",
    "        return (self.data[idx, :], self.target[idx])\n",
    "\n",
    "train_dataset = OccupancyDataset('train_data.txt')\n",
    "test_dataset = OccupancyDataset('test_data.txt')\n",
    "\n",
    "train_loader = DataLoader(train_dataset, batch_size = len(train_dataset), shuffle = False)\n",
    "test_loader = DataLoader(test_dataset, batch_size= len(test_dataset), shuffle = False)"
   ]
  },
  {
   "cell_type": "markdown",
   "metadata": {},
   "source": [
    "## Create network class"
   ]
  },
  {
   "cell_type": "code",
   "execution_count": 4,
   "metadata": {},
   "outputs": [
    {
     "name": "stdout",
     "output_type": "stream",
     "text": [
      "Net(\n",
      "  (fc1): Linear(in_features=5, out_features=5, bias=True)\n",
      "  (fc2): Linear(in_features=5, out_features=1, bias=True)\n",
      ")\n"
     ]
    }
   ],
   "source": [
    "class Net(nn.Module):\n",
    "    \n",
    "    def __init__(self):\n",
    "        super(Net, self).__init__()\n",
    "        self.fc1 = nn.Linear(5,5)\n",
    "        self.fc2 = nn.Linear(5,1)\n",
    "        \n",
    "    def forward(self, x):\n",
    "        #print(x)\n",
    "        x = F.sigmoid(self.fc1(x))\n",
    "        return F.sigmoid(self.fc2(x))\n",
    "    \n",
    "n = Net()\n",
    "print(n)\n",
    "#print(list( n.parameters()) )"
   ]
  },
  {
   "cell_type": "markdown",
   "metadata": {},
   "source": [
    "## Setting variables"
   ]
  },
  {
   "cell_type": "code",
   "execution_count": 5,
   "metadata": {},
   "outputs": [
    {
     "name": "stdout",
     "output_type": "stream",
     "text": [
      "[Parameter containing:\n",
      "-0.0626391768 -0.2261362970 0.4195485711 -0.0486054122 -0.2265023887\n",
      "-0.3636805415 -0.2692025304 -0.0628432333 -0.1871821582 -0.3877520263\n",
      "-0.3966715038 -0.1359688342 -0.2388937026 -0.2793056965 0.3231502175\n",
      "0.1630388498 0.1343439817 -0.1807719171 -0.2309059501 -0.3681155145\n",
      "0.0247140229 -0.4450216591 0.3383305073 0.3403561115 -0.3957799673\n",
      "[torch.FloatTensor of size 5x5]\n",
      ", Parameter containing:\n",
      "-0.2410348654\n",
      "-0.4041354060\n",
      "-0.0552471280\n",
      "0.2703957558\n",
      "-0.1516707540\n",
      "[torch.FloatTensor of size 5]\n",
      ", Parameter containing:\n",
      "0.2509794235 0.3994463682 0.0853349566 0.1052467227 0.0558738708\n",
      "[torch.FloatTensor of size 1x5]\n",
      ", Parameter containing:\n",
      "-0.4326401055\n",
      "[torch.FloatTensor of size 1]\n",
      "]\n"
     ]
    }
   ],
   "source": [
    "net = Net()\n",
    "print(list(net.parameters()))\n",
    "epochs = 1000\n",
    "lr = 0.0001\n",
    "optimizer = optim.SGD(net.parameters(), lr=lr)\n",
    "criterion = nn.BCELoss()"
   ]
  },
  {
   "cell_type": "markdown",
   "metadata": {},
   "source": [
    "## Train function"
   ]
  },
  {
   "cell_type": "code",
   "execution_count": 6,
   "metadata": {},
   "outputs": [],
   "source": [
    "def train(epoch):\n",
    "    for i, data in enumerate(train_loader, 0):\n",
    "        optimizer.zero_grad()\n",
    "        inputs, target = data\n",
    "        inputs, target = Variable(inputs), Variable(target.float())\n",
    "        #print(input)\n",
    "        #print(target)\n",
    "        output = net(inputs).squeeze()\n",
    "        #print(output)\n",
    "        #output = torch.round(output).squeeze()\n",
    "        loss =  criterion(output, target)     \n",
    "        loss.backward()\n",
    "        optimizer.step()\n",
    "\n",
    "    return loss.data[0]\n",
    "    \n",
    "    \n",
    "def get_acc(loader, dataset):\n",
    "    correct = 0\n",
    "    total = 0\n",
    "    for i, data in enumerate(loader, 0):\n",
    "        inputs, target = data\n",
    "        inputs, target = Variable(inputs), Variable(target.float())\n",
    "        output = net(inputs).squeeze()\n",
    "        #print('Output 1: {0}'.format(output))\n",
    "        output = output>0.5\n",
    "        #print('Output 2: {0}'.format(output))\n",
    "        \n",
    "        #print('Target: {0}'.format(target))\n",
    "        correct += (target.data.cpu().numpy() == output.data.cpu().numpy()).sum()\n",
    "        #print('Matching: {0}'.format((target == output).sum()))\n",
    "        total += target.size(0)\n",
    "    #return accuracy_score(target.data.cpu().numpy(), output.data.cpu().numpy())*100\n",
    "    return 100*int(correct)/int(total)\n",
    "    "
   ]
  },
  {
   "cell_type": "code",
   "execution_count": 6,
   "metadata": {
    "scrolled": false
   },
   "outputs": [
    {
     "name": "stdout",
     "output_type": "stream",
     "text": [
      "\n",
      "\n",
      "Loss after epoch 0: 0.5367335081100464\n",
      "Train Accuracy: 78.76703917475132\n",
      "Test Accuracy: 78.98892534864643\n",
      "\n",
      "\n",
      "Loss after epoch 100: 0.5364893674850464\n",
      "Train Accuracy: 78.76703917475132\n",
      "Test Accuracy: 78.98892534864643\n",
      "\n",
      "\n",
      "Loss after epoch 200: 0.5362662672996521\n",
      "Train Accuracy: 78.76703917475132\n",
      "Test Accuracy: 78.98892534864643\n",
      "\n",
      "\n",
      "Loss after epoch 300: 0.5360569357872009\n",
      "Train Accuracy: 78.76703917475132\n",
      "Test Accuracy: 78.98892534864643\n",
      "\n",
      "\n",
      "Loss after epoch 400: 0.535822868347168\n",
      "Train Accuracy: 78.76703917475132\n",
      "Test Accuracy: 78.98892534864643\n",
      "\n",
      "\n",
      "Loss after epoch 500: 0.5356074571609497\n",
      "Train Accuracy: 78.76703917475132\n",
      "Test Accuracy: 78.98892534864643\n",
      "\n",
      "\n",
      "Loss after epoch 600: 0.535388708114624\n",
      "Train Accuracy: 78.76703917475132\n",
      "Test Accuracy: 78.98892534864643\n",
      "\n",
      "\n",
      "Loss after epoch 700: 0.5351848006248474\n",
      "Train Accuracy: 78.76703917475132\n",
      "Test Accuracy: 78.98892534864643\n",
      "\n",
      "\n",
      "Loss after epoch 800: 0.5349476933479309\n",
      "Train Accuracy: 78.76703917475132\n",
      "Test Accuracy: 78.98892534864643\n",
      "\n",
      "\n",
      "Loss after epoch 900: 0.5347458720207214\n",
      "Train Accuracy: 78.76703917475132\n",
      "Test Accuracy: 78.98892534864643\n"
     ]
    }
   ],
   "source": [
    "losses = []\n",
    "for i in range(epochs):\n",
    "    loss = train(i)\n",
    "    losses.append(loss)\n",
    "    train_acc = get_acc(train_loader, 'Train')\n",
    "    test_acc = get_acc(test_loader, 'Test')\n",
    "    if i%100==0:\n",
    "        print('\\n')\n",
    "        print('Loss after epoch {1}: {0}'.format(loss, i))\n",
    "        print('Train Accuracy: {0}'.format(train_acc))\n",
    "        print('Test Accuracy: {0}'.format(test_acc))\n",
    "        "
   ]
  },
  {
   "cell_type": "code",
   "execution_count": 122,
   "metadata": {},
   "outputs": [
    {
     "data": {
      "text/plain": [
       "[<matplotlib.lines.Line2D at 0x1a1d6f3470>]"
      ]
     },
     "execution_count": 122,
     "metadata": {},
     "output_type": "execute_result"
    },
    {
     "data": {
      "image/png": "[encoded data removed]",
      "text/plain": [
       "<matplotlib.figure.Figure at 0x1a1d577048>"
      ]
     },
     "metadata": {},
     "output_type": "display_data"
    }
   ],
   "source": [
    "plt.figure()\n",
    "plt.title('Training loss per epoch')\n",
    "plt.xlabel('Epoch')\n",
    "plt.ylabel('Loss')\n",
    "plt.plot(range(epochs), losses)"
   ]
  },
  {
   "cell_type": "markdown",
   "metadata": {},
   "source": [
    "# Question 1.b"
   ]
  },
  {
   "cell_type": "markdown",
   "metadata": {},
   "source": [
    "## Check accuracy for random output on test dataset"
   ]
  },
  {
   "cell_type": "code",
   "execution_count": 7,
   "metadata": {},
   "outputs": [
    {
     "name": "stdout",
     "output_type": "stream",
     "text": [
      "Accuracy using random predictions on train dataset: 52.572761881370496\n",
      "Baseline BCE training loss: Variable containing:\n",
      "13.1051988602\n",
      "[torch.FloatTensor of size 1]\n",
      "\n",
      "Baseline MSE training loss: Variable containing:\n",
      "0.4742723703\n",
      "[torch.FloatTensor of size 1]\n",
      "\n"
     ]
    }
   ],
   "source": [
    "# Generate 5 trials of random input\n",
    "random_pred_5 = np.random.randint(0,2, (len(train_dataset), 5))\n",
    "random_pred = np.zeros(len(train_dataset))\n",
    "\n",
    "# Find the maximum occuring value \n",
    "for i in np.arange(len(train_dataset)):\n",
    "    un = np.unique(random_pred_5[i,:], return_counts = True)\n",
    "    random_pred[i] = np.argmax(un[1])\n",
    "    \n",
    "#print(random_pred)\n",
    "\n",
    "# Get the test dataset output\n",
    "dataset = np.loadtxt('train_data.txt', skiprows=1, dtype = object, delimiter=',')\n",
    "target = np.array(dataset[:,7], dtype = int)\n",
    "\n",
    "# Get accuracy\n",
    "print('Accuracy using random predictions on train dataset: {0}'.format(accuracy_score(target, random_pred)*100))\n",
    "\n",
    "\n",
    "output = Variable(torch.from_numpy(random_pred).float())\n",
    "target = Variable(torch.from_numpy(target).float())\n",
    "print('Baseline BCE training loss: {0}'.format(F.binary_cross_entropy(output, target)))\n",
    "\n",
    "print('Baseline MSE training loss: {0}'.format(F.mse_loss(output, target)))"
   ]
  },
  {
   "cell_type": "markdown",
   "metadata": {},
   "source": [
    "## Check accuracy for random output on test dataset"
   ]
  },
  {
   "cell_type": "code",
   "execution_count": 125,
   "metadata": {},
   "outputs": [
    {
     "name": "stdout",
     "output_type": "stream",
     "text": [
      "Accuracy using random predictions on test dataset: 51.86628383921247\n"
     ]
    }
   ],
   "source": [
    "# Generate 5 trials of random input\n",
    "random_pred_5 = np.random.randint(0,2, (len(test_dataset), 5))\n",
    "random_pred = np.zeros(len(test_dataset))\n",
    "\n",
    "# Find the maximum occuring value \n",
    "for i in np.arange(len(test_dataset)):\n",
    "    un = np.unique(random_pred_5[i,:], return_counts = True)\n",
    "    random_pred[i] = np.argmax(un[1])\n",
    "    \n",
    "#print(random_pred)\n",
    "\n",
    "# Get the test dataset output\n",
    "dataset = np.loadtxt('test_data.txt', skiprows=1, dtype = object, delimiter=',')\n",
    "target = np.array(dataset[:,7], dtype = int)\n",
    "\n",
    "# Get accuracy\n",
    "print('Accuracy using random predictions on test dataset: {0}'.format(accuracy_score(target, random_pred)*100))"
   ]
  },
  {
   "cell_type": "code",
   "execution_count": null,
   "metadata": {},
   "outputs": [],
   "source": []
  }
 ],
 "metadata": {
  "kernelspec": {
   "display_name": "Python 3",
   "language": "python",
   "name": "python3"
  },
  "language_info": {
   "codemirror_mode": {
    "name": "ipython",
    "version": 3
   },
   "file_extension": ".py",
   "mimetype": "text/x-python",
   "name": "python",
   "nbconvert_exporter": "python",
   "pygments_lexer": "ipython3",
   "version": "3.6.4"
  }
 },
 "nbformat": 4,
 "nbformat_minor": 2
}
