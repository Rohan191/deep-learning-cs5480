{
 "cells": [
  {
   "cell_type": "markdown",
   "metadata": {},
   "source": [
    "# Question 1.g"
   ]
  },
  {
   "cell_type": "code",
   "execution_count": null,
   "metadata": {},
   "outputs": [],
   "source": [
    "import torch\n",
    "from torch.autograd import Variable\n",
    "import torch.nn as nn\n",
    "import torch.nn.functional as F\n",
    "from torch.utils.data import Dataset, DataLoader\n",
    "import torch.optim as optim\n",
    "import numpy as np\n",
    "import pandas as pd\n",
    "from sklearn.metrics import accuracy_score\n",
    "import matplotlib.pyplot as plt\n",
    "\n",
    "torch.set_printoptions(precision=10)\n",
    "torch.__version__"
   ]
  },
  {
   "cell_type": "markdown",
   "metadata": {},
   "source": [
    "## Load train and test dataset"
   ]
  },
  {
   "cell_type": "code",
   "execution_count": null,
   "metadata": {},
   "outputs": [],
   "source": [
    "class OccupancyDataset(Dataset):\n",
    "    \"\"\" Occupancy detection dataset\"\"\"\n",
    "    \n",
    "    def __init__(self, filename):\n",
    "        self.dataset = np.loadtxt(filename, skiprows=1, dtype = object, delimiter=',')\n",
    "        \n",
    "        self.data = np.array(self.dataset[:,2:7], dtype = float)\n",
    "        self.data = (self.data - self.data.mean())/self.data.std()\n",
    "        self.data = torch.from_numpy(self.data).float()\n",
    "        \n",
    "        self.target = np.array(self.dataset[:,7], dtype = float)\n",
    "        self.target = torch.from_numpy(self.target).float()\n",
    "        \n",
    "    def __len__(self):\n",
    "        return self.data.size()[0]\n",
    "    \n",
    "    def __getitem__(self, idx):\n",
    "        return (self.data[idx, :], self.target[idx])\n",
    "\n",
    "    \n",
    "# Setup datasets and loaders\n",
    "train_dataset = OccupancyDataset('train_data.txt')\n",
    "test_dataset = OccupancyDataset('test_data.txt')\n",
    "\n",
    "train_batch_size = 100\n",
    "test_batch_size = 100\n",
    "\n",
    "train_loader = DataLoader(train_dataset, batch_size = train_batch_size, shuffle = False)\n",
    "test_loader = DataLoader(test_dataset, batch_size= test_batch_size, shuffle = False)"
   ]
  },
  {
   "cell_type": "markdown",
   "metadata": {},
   "source": [
    "## Create network class"
   ]
  },
  {
   "cell_type": "code",
   "execution_count": 3,
   "metadata": {},
   "outputs": [],
   "source": [
    "class Net(nn.Module):\n",
    "    \"\"\" Neural network with 2 hidden layers and sigmoid activations \"\"\"\n",
    "    \n",
    "    def __init__(self, h1, h2):\n",
    "        super(Net, self).__init__()\n",
    "        self.fc1 = nn.Linear(5,h1)\n",
    "        self.fc2 = nn.Linear(h1,h2)\n",
    "        self.fc3 = nn.Linear(h2,1)\n",
    "        \n",
    "    def forward(self, x):\n",
    "        #print(x)\n",
    "        x = F.sigmoid(self.fc1(x))\n",
    "        x = F.sigmoid(self.fc2(x))\n",
    "        return F.sigmoid(self.fc3(x))\n",
    "    "
   ]
  },
  {
   "cell_type": "markdown",
   "metadata": {},
   "source": [
    "## Setting variables"
   ]
  },
  {
   "cell_type": "code",
   "execution_count": 4,
   "metadata": {},
   "outputs": [],
   "source": [
    "epochs = 2000\n",
    "lr = 0.001\n",
    "criterion = nn.BCELoss()"
   ]
  },
  {
   "cell_type": "markdown",
   "metadata": {},
   "source": [
    "## Train function"
   ]
  },
  {
   "cell_type": "code",
   "execution_count": 5,
   "metadata": {},
   "outputs": [],
   "source": [
    "def train(epoch):\n",
    "    # Train the network\n",
    "    running_loss = 0\n",
    "    count = 0\n",
    "    for i, data in enumerate(train_loader, 0):\n",
    "        optimizer.zero_grad()\n",
    "        inputs, target = data\n",
    "        inputs, target = Variable(inputs), Variable(target.float())\n",
    "        output = net(inputs).squeeze()\n",
    "        loss =  criterion(output, target)     \n",
    "        loss.backward()\n",
    "        optimizer.step()\n",
    "        running_loss += loss.data[0]\n",
    "        count +=1\n",
    "\n",
    "    return running_loss/count\n",
    "    \n",
    "    \n",
    "def get_acc(loader, dataset):\n",
    "    # Get accuracy (%) for train/test\n",
    "    correct = 0\n",
    "    total = 0\n",
    "    for i, data in enumerate(loader, 0):\n",
    "        inputs, target = data\n",
    "        inputs, target = Variable(inputs), Variable(target.float())\n",
    "        output = net(inputs).squeeze()\n",
    "        output = output>0.5\n",
    "        correct += (target.data.cpu().numpy() == output.data.cpu().numpy()).sum()\n",
    "        total += target.size(0)\n",
    "    return 100*int(correct)/int(total)\n",
    "    "
   ]
  },
  {
   "cell_type": "code",
   "execution_count": 8,
   "metadata": {
    "scrolled": false
   },
   "outputs": [
    {
     "name": "stdout",
     "output_type": "stream",
     "text": [
      "\n",
      "Training neural network with h1 = 5 and h2 = 1\n",
      "Final test accuracy for h1=5 and h2=1 : 78.98892534864643\n",
      "\n",
      "Training neural network with h1 = 5 and h2 = 2\n",
      "Final test accuracy for h1=5 and h2=2 : 99.12838392124692\n",
      "\n",
      "Training neural network with h1 = 5 and h2 = 5\n",
      "Final test accuracy for h1=5 and h2=5 : 98.63617719442166\n",
      "\n",
      "Training neural network with h1 = 5 and h2 = 10\n",
      "Final test accuracy for h1=5 and h2=10 : 97.80557834290401\n",
      "\n",
      "Training neural network with h1 = 5 and h2 = 20\n",
      "Final test accuracy for h1=5 and h2=20 : 98.83100902378999\n",
      "\n",
      "Training neural network with h1 = 5 and h2 = 40\n",
      "Final test accuracy for h1=5 and h2=40 : 98.20549630844955\n",
      "\n",
      "Training neural network with h1 = 10 and h2 = 1\n",
      "Final test accuracy for h1=10 and h2=1 : 98.21575061525841\n",
      "\n",
      "Training neural network with h1 = 10 and h2 = 2\n",
      "Final test accuracy for h1=10 and h2=2 : 98.76948318293684\n",
      "\n",
      "Training neural network with h1 = 10 and h2 = 5\n",
      "Final test accuracy for h1=10 and h2=5 : 98.18498769483183\n",
      "\n",
      "Training neural network with h1 = 10 and h2 = 10\n",
      "Final test accuracy for h1=10 and h2=10 : 98.35931091058245\n",
      "\n",
      "Training neural network with h1 = 10 and h2 = 20\n",
      "Final test accuracy for h1=10 and h2=20 : 98.45159967186218\n",
      "\n",
      "Training neural network with h1 = 10 and h2 = 40\n",
      "Final test accuracy for h1=10 and h2=40 : 97.42616899097621\n",
      "\n",
      "Training neural network with h1 = 20 and h2 = 1\n",
      "Final test accuracy for h1=20 and h2=1 : 97.95939294503691\n",
      "\n",
      "Training neural network with h1 = 20 and h2 = 2\n",
      "Final test accuracy for h1=20 and h2=2 : 98.29778506972929\n",
      "\n",
      "Training neural network with h1 = 20 and h2 = 5\n",
      "Final test accuracy for h1=20 and h2=5 : 98.18498769483183\n",
      "\n",
      "Training neural network with h1 = 20 and h2 = 10\n",
      "Final test accuracy for h1=20 and h2=10 : 97.9388843314192\n",
      "\n",
      "Training neural network with h1 = 20 and h2 = 20\n",
      "Final test accuracy for h1=20 and h2=20 : 97.70303527481542\n",
      "\n",
      "Training neural network with h1 = 20 and h2 = 40\n",
      "Final test accuracy for h1=20 and h2=40 : 97.40566037735849\n"
     ]
    }
   ],
   "source": [
    "hidden_units_1 = [5,10,20]\n",
    "hidden_units_2 = [1,2,5,10,20,40]\n",
    "\n",
    "for h1 in hidden_units_1:\n",
    "    for h2 in hidden_units_2:\n",
    "        net = Net(h1, h2)\n",
    "        optimizer = optim.SGD(net.parameters(), lr=lr, momentum=0.9)\n",
    "        errors = []\n",
    "        print('\\nTraining neural network with h1 = {0} and h2 = {1}'.format(h1, h2))\n",
    "        # Run epochs and store necessary metrics\n",
    "        for i in range(epochs):\n",
    "            loss = train(i)\n",
    "            train_acc = get_acc(train_loader, 'Train')\n",
    "            errors.append(100-train_acc)\n",
    "            test_acc = get_acc(test_loader, 'Test')\n",
    "            #if i%100==0:\n",
    "                #print('Loss after epoch {1}: {0}'.format(loss, i))\n",
    "                #print('Train Accuracy: {0}'.format(train_acc))\n",
    "                #print('Test Accuracy: {0}'.format(test_acc))\n",
    "\n",
    "                # Stop training based on below condition\n",
    "            if i>200 and errors[i-50]-errors[i] < 1e-2:\n",
    "                break\n",
    "\n",
    "        print('Final test accuracy for h1={1} and h2={2} : {0}'.format(test_acc, h1, h2))\n",
    "            \n"
   ]
  },
  {
   "cell_type": "markdown",
   "metadata": {},
   "source": [
    "### Observations\n",
    "\n",
    "- The highest test accuracy amongst the above is 99.13 % for h1 = 5 and h2 = 2\n",
    "- This accuracy is higher than that obtained for SGD using only one hidden layer."
   ]
  },
  {
   "cell_type": "code",
   "execution_count": null,
   "metadata": {},
   "outputs": [],
   "source": []
  }
 ],
 "metadata": {
  "kernelspec": {
   "display_name": "Python 3",
   "language": "python",
   "name": "python3"
  },
  "language_info": {
   "codemirror_mode": {
    "name": "ipython",
    "version": 3
   },
   "file_extension": ".py",
   "mimetype": "text/x-python",
   "name": "python",
   "nbconvert_exporter": "python",
   "pygments_lexer": "ipython3",
   "version": "3.6.4"
  }
 },
 "nbformat": 4,
 "nbformat_minor": 2
}
