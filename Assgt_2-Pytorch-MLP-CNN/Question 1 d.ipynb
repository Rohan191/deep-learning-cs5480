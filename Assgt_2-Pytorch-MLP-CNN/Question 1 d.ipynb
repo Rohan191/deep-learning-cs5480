{
 "cells": [
  {
   "cell_type": "markdown",
   "metadata": {},
   "source": [
    "# Question 1.d"
   ]
  },
  {
   "cell_type": "code",
   "execution_count": 1,
   "metadata": {},
   "outputs": [
    {
     "data": {
      "text/plain": [
       "'0.3.1.post2'"
      ]
     },
     "execution_count": 1,
     "metadata": {},
     "output_type": "execute_result"
    }
   ],
   "source": [
    "import torch\n",
    "from torch.autograd import Variable\n",
    "import torch.nn as nn\n",
    "import torch.nn.functional as F\n",
    "from torch.utils.data import Dataset, DataLoader\n",
    "import torch.optim as optim\n",
    "import numpy as np\n",
    "import pandas as pd\n",
    "from sklearn.metrics import accuracy_score\n",
    "import matplotlib.pyplot as plt\n",
    "\n",
    "torch.set_printoptions(precision=10)\n",
    "torch.__version__"
   ]
  },
  {
   "cell_type": "markdown",
   "metadata": {},
   "source": [
    "## Load train and test dataset"
   ]
  },
  {
   "cell_type": "code",
   "execution_count": 2,
   "metadata": {},
   "outputs": [],
   "source": [
    "class OccupancyDataset(Dataset):\n",
    "    \"\"\" Occupancy detection dataset\"\"\"\n",
    "    \n",
    "    def __init__(self, filename):\n",
    "        self.dataset = np.loadtxt(filename, skiprows=1, dtype = object, delimiter=',')\n",
    "        \n",
    "        self.data = np.array(self.dataset[:,2:7], dtype = float)\n",
    "        self.data = (self.data - self.data.mean())/self.data.std()\n",
    "        self.data = torch.from_numpy(self.data).float()\n",
    "        \n",
    "        self.target = np.array(self.dataset[:,7], dtype = float)\n",
    "        self.target = torch.from_numpy(self.target).float()\n",
    "        \n",
    "    def __len__(self):\n",
    "        return self.data.size()[0]\n",
    "    \n",
    "    def __getitem__(self, idx):\n",
    "        return (self.data[idx, :], self.target[idx])\n",
    "\n",
    "    \n",
    "# Setup datasets and loaders\n",
    "train_dataset = OccupancyDataset('train_data.txt')\n",
    "test_dataset = OccupancyDataset('test_data.txt')"
   ]
  },
  {
   "cell_type": "markdown",
   "metadata": {},
   "source": [
    "## Create network class"
   ]
  },
  {
   "cell_type": "code",
   "execution_count": 3,
   "metadata": {},
   "outputs": [
    {
     "name": "stdout",
     "output_type": "stream",
     "text": [
      "Net(\n",
      "  (fc1): Linear(in_features=5, out_features=5, bias=True)\n",
      "  (fc2): Linear(in_features=5, out_features=1, bias=True)\n",
      ")\n"
     ]
    }
   ],
   "source": [
    "class Net(nn.Module):\n",
    "    \"\"\" Neural network with 1 hidden layer and sigmoid activations \"\"\"\n",
    "    \n",
    "    def __init__(self):\n",
    "        super(Net, self).__init__()\n",
    "        self.fc1 = nn.Linear(5,5)\n",
    "        self.fc2 = nn.Linear(5,1)\n",
    "        \n",
    "    def forward(self, x):\n",
    "        #print(x)\n",
    "        x = F.sigmoid(self.fc1(x))\n",
    "        return F.sigmoid(self.fc2(x))\n",
    "    \n",
    "n = Net()\n",
    "print(n)\n",
    "#print(list( n.parameters()) )"
   ]
  },
  {
   "cell_type": "markdown",
   "metadata": {},
   "source": [
    "## Train function"
   ]
  },
  {
   "cell_type": "code",
   "execution_count": 4,
   "metadata": {},
   "outputs": [],
   "source": [
    "def train(epoch):\n",
    "    # Train the network\n",
    "    running_loss = 0\n",
    "    count = 0\n",
    "    for i, data in enumerate(train_loader, 0):\n",
    "        optimizer.zero_grad()\n",
    "        inputs, target = data\n",
    "        inputs, target = Variable(inputs), Variable(target.float())\n",
    "        output = net(inputs).squeeze()\n",
    "        loss =  criterion(output, target)     \n",
    "        loss.backward()\n",
    "        optimizer.step()\n",
    "        running_loss += loss.data[0]\n",
    "        count +=1\n",
    "\n",
    "    return running_loss/count\n",
    "    \n",
    "    \n",
    "def get_acc(loader, dataset):\n",
    "    # Get accuracy (%) for train/test\n",
    "    correct = 0\n",
    "    total = 0\n",
    "    for i, data in enumerate(loader, 0):\n",
    "        inputs, target = data\n",
    "        inputs, target = Variable(inputs), Variable(target.float())\n",
    "        output = net(inputs).squeeze()\n",
    "        output = output>0.5\n",
    "        correct += (target.data.cpu().numpy() == output.data.cpu().numpy()).sum()\n",
    "        total += target.size(0)\n",
    "    return 100*int(correct)/int(total)\n",
    "\n",
    "def run_optimizer():\n",
    "    losses = []\n",
    "    accuracy = []\n",
    "    final_epoch = 0\n",
    "\n",
    "    # Run epochs and store necessary metrics\n",
    "    for i in range(epochs):\n",
    "        loss = train(i)\n",
    "        losses.append(loss)\n",
    "        train_acc = get_acc(train_loader, 'Train')\n",
    "        test_acc = get_acc(test_loader, 'Test')\n",
    "        accuracy.append(test_acc)\n",
    "        if i%100==0:\n",
    "            print('\\n')\n",
    "            print('Loss after epoch {1}: {0}'.format(loss, i))\n",
    "            print('Train Accuracy: {0}'.format(train_acc))\n",
    "            print('Test Accuracy: {0}'.format(test_acc))\n",
    "\n",
    "            # Stop training based on below condition\n",
    "        if i>200 and accuracy[i]-accuracy[i-50] < 1e-2:\n",
    "            print('Reached local minima at epoch: {0} with error: {1}'.format(i, accuracy[i]))\n",
    "            final_epoch = i\n",
    "            break\n",
    "    return accuracy, final_epoch\n",
    "    "
   ]
  },
  {
   "cell_type": "markdown",
   "metadata": {},
   "source": [
    "## Setting variables for SGD"
   ]
  },
  {
   "cell_type": "code",
   "execution_count": 11,
   "metadata": {},
   "outputs": [
    {
     "name": "stdout",
     "output_type": "stream",
     "text": [
      "[Parameter containing:\n",
      "-0.0727616251 0.0083447099 -0.0498761535 -0.3524668813 -0.2259062976\n",
      "-0.1580338776 0.1237648129 -0.3148422539 0.1666700244 0.0377391875\n",
      "0.2100751996 0.4354951382 -0.0606210530 -0.0083136261 0.3940888047\n",
      "0.3157782555 0.4004745483 0.2149344683 -0.0354786515 0.2187737226\n",
      "-0.3324247599 -0.2260354310 0.2284352779 0.0175635815 -0.0797688067\n",
      "[torch.FloatTensor of size 5x5]\n",
      ", Parameter containing:\n",
      "0.3398510814\n",
      "0.0684273839\n",
      "0.4123148918\n",
      "0.3936618567\n",
      "-0.2815660834\n",
      "[torch.FloatTensor of size 5]\n",
      ", Parameter containing:\n",
      "-0.3918961287 0.0942075253 0.3612582684 0.1120766997 0.0496871173\n",
      "[torch.FloatTensor of size 1x5]\n",
      ", Parameter containing:\n",
      "1.00000e-02 *\n",
      " -4.0749371052\n",
      "[torch.FloatTensor of size 1]\n",
      "]\n"
     ]
    }
   ],
   "source": [
    "train_batch_size = 100\n",
    "test_batch_size = 100\n",
    "\n",
    "train_loader = DataLoader(train_dataset, batch_size = train_batch_size, shuffle = False)\n",
    "test_loader = DataLoader(test_dataset, batch_size= test_batch_size, shuffle = False)\n",
    "\n",
    "net = Net()\n",
    "print(list(net.parameters()))\n",
    "epochs = 2000\n",
    "lr = 0.001\n",
    "optimizer = optim.SGD(net.parameters(), lr=lr, momentum=0.9)\n",
    "criterion = nn.BCELoss()"
   ]
  },
  {
   "cell_type": "markdown",
   "metadata": {},
   "source": [
    "## Running SGD"
   ]
  },
  {
   "cell_type": "code",
   "execution_count": 12,
   "metadata": {
    "scrolled": false
   },
   "outputs": [
    {
     "name": "stdout",
     "output_type": "stream",
     "text": [
      "\n",
      "\n",
      "Loss after epoch 0: 0.6503413675761804\n",
      "Train Accuracy: 78.76703917475132\n",
      "Test Accuracy: 78.98892534864643\n",
      "\n",
      "\n",
      "Loss after epoch 100: 0.0910328578249347\n",
      "Train Accuracy: 98.83335380081051\n",
      "Test Accuracy: 97.84659557013946\n",
      "\n",
      "\n",
      "Loss after epoch 200: 0.06441977084046457\n",
      "Train Accuracy: 98.83335380081051\n",
      "Test Accuracy: 98.31829368334701\n",
      "Reached local minima at epoch: 201 with error: 98.31829368334701\n"
     ]
    }
   ],
   "source": [
    "accuracy_sgd, epoch_sgd = run_optimizer()"
   ]
  },
  {
   "cell_type": "markdown",
   "metadata": {},
   "source": [
    "## Setting parameters for Batch Gradient decent"
   ]
  },
  {
   "cell_type": "code",
   "execution_count": 7,
   "metadata": {},
   "outputs": [
    {
     "name": "stdout",
     "output_type": "stream",
     "text": [
      "[Parameter containing:\n",
      "0.3546487689 -0.1442515552 0.4399570823 -0.0572826862 -0.0822196603\n",
      "0.3918565512 -0.0908726752 -0.3169617653 0.4008457065 0.3009217381\n",
      "-0.0041321218 0.4359288812 0.0120881200 0.2100175023 -0.2865144610\n",
      "-0.0483578742 -0.0319072008 0.2352747321 0.4022808075 0.0038635135\n",
      "-0.1788521707 0.2339725494 -0.1365017891 -0.0530630350 0.4461079240\n",
      "[torch.FloatTensor of size 5x5]\n",
      ", Parameter containing:\n",
      "-0.0175494552\n",
      "-0.2346861511\n",
      "-0.2007555068\n",
      "0.0219481885\n",
      "-0.2673647106\n",
      "[torch.FloatTensor of size 5]\n",
      ", Parameter containing:\n",
      "-0.1170531511 -0.4130647779 0.3499189615 -0.4324310124 0.0602083206\n",
      "[torch.FloatTensor of size 1x5]\n",
      ", Parameter containing:\n",
      "-0.4355434179\n",
      "[torch.FloatTensor of size 1]\n",
      "]\n"
     ]
    }
   ],
   "source": [
    "train_batch_size = len(train_dataset)\n",
    "test_batch_size = len(test_dataset)\n",
    "\n",
    "train_loader = DataLoader(train_dataset, batch_size = train_batch_size, shuffle = False)\n",
    "test_loader = DataLoader(test_dataset, batch_size= test_batch_size, shuffle = False)\n",
    "\n",
    "net = Net()\n",
    "print(list(net.parameters()))\n",
    "epochs = 2000\n",
    "lr = 0.0001\n",
    "optimizer = optim.SGD(net.parameters(), lr=lr)\n",
    "criterion = nn.BCELoss()"
   ]
  },
  {
   "cell_type": "markdown",
   "metadata": {},
   "source": [
    "## Running Batch gradient descent"
   ]
  },
  {
   "cell_type": "code",
   "execution_count": 8,
   "metadata": {},
   "outputs": [
    {
     "name": "stdout",
     "output_type": "stream",
     "text": [
      "\n",
      "\n",
      "Loss after epoch 0: 0.5600675940513611\n",
      "Train Accuracy: 78.76703917475132\n",
      "Test Accuracy: 78.98892534864643\n",
      "\n",
      "\n",
      "Loss after epoch 100: 0.5598685145378113\n",
      "Train Accuracy: 78.76703917475132\n",
      "Test Accuracy: 78.98892534864643\n",
      "\n",
      "\n",
      "Loss after epoch 200: 0.5596728920936584\n",
      "Train Accuracy: 78.76703917475132\n",
      "Test Accuracy: 78.98892534864643\n",
      "Reached local minima at epoch: 201 with error: 78.98892534864643\n"
     ]
    }
   ],
   "source": [
    "accuracy_batch, epoch_batch = run_optimizer()"
   ]
  },
  {
   "cell_type": "code",
   "execution_count": 9,
   "metadata": {},
   "outputs": [
    {
     "data": {
      "text/plain": [
       "<matplotlib.legend.Legend at 0x1a1a042dd8>"
      ]
     },
     "execution_count": 9,
     "metadata": {},
     "output_type": "execute_result"
    },
    {
     "data": {
      "image/png": "[encoded data removed]",
      "text/plain": [
       "<matplotlib.figure.Figure at 0x1a19be5c18>"
      ]
     },
     "metadata": {},
     "output_type": "display_data"
    }
   ],
   "source": [
    "# Plot performance comparison of SGD and Batch gradient descent\n",
    "\n",
    "plt.figure()\n",
    "plt.title('Test accuracy comparisons per epoch')\n",
    "plt.xlabel('Epoch')\n",
    "plt.ylabel('Test Accuracy (%)')\n",
    "plt.plot(range(epoch_sgd+1), accuracy_sgd, label = 'SGD Performance')\n",
    "\n",
    "# Plot baseline train accuracy 48.827\n",
    "plt.axhline(y=51.173, color='r', linestyle='-', label = 'Baseline Performance')\n",
    "\n",
    "plt.plot(range(epoch_batch+1), accuracy_batch, label = 'Batch GD Performance')\n",
    "\n",
    "plt.legend()\n",
    "#plt.plot( range)\n"
   ]
  },
  {
   "cell_type": "markdown",
   "metadata": {},
   "source": [
    "### Observations\n",
    "\n",
    "    - Batch gradient descent gets stuck at a local minima/saddle point and fails to get out it.\n",
    "    - SGD is able to get out of it after few epochs and go to a better local minima."
   ]
  },
  {
   "cell_type": "code",
   "execution_count": null,
   "metadata": {},
   "outputs": [],
   "source": []
  }
 ],
 "metadata": {
  "kernelspec": {
   "display_name": "Python 3",
   "language": "python",
   "name": "python3"
  },
  "language_info": {
   "codemirror_mode": {
    "name": "ipython",
    "version": 3
   },
   "file_extension": ".py",
   "mimetype": "text/x-python",
   "name": "python",
   "nbconvert_exporter": "python",
   "pygments_lexer": "ipython3",
   "version": "3.6.4"
  }
 },
 "nbformat": 4,
 "nbformat_minor": 2
}
