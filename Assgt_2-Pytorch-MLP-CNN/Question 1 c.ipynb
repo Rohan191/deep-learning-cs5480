{
 "cells": [
  {
   "cell_type": "markdown",
   "metadata": {},
   "source": [
    "# Question 1.c"
   ]
  },
  {
   "cell_type": "code",
   "execution_count": 1,
   "metadata": {},
   "outputs": [
    {
     "data": {
      "text/plain": [
       "'0.3.1.post2'"
      ]
     },
     "execution_count": 1,
     "metadata": {},
     "output_type": "execute_result"
    }
   ],
   "source": [
    "import torch\n",
    "from torch.autograd import Variable\n",
    "import torch.nn as nn\n",
    "import torch.nn.functional as F\n",
    "from torch.utils.data import Dataset, DataLoader\n",
    "import torch.optim as optim\n",
    "import numpy as np\n",
    "import pandas as pd\n",
    "from sklearn.metrics import accuracy_score\n",
    "import matplotlib.pyplot as plt\n",
    "\n",
    "torch.set_printoptions(precision=10)\n",
    "torch.__version__"
   ]
  },
  {
   "cell_type": "markdown",
   "metadata": {},
   "source": [
    "## Load train and test dataset"
   ]
  },
  {
   "cell_type": "code",
   "execution_count": 2,
   "metadata": {},
   "outputs": [],
   "source": [
    "class OccupancyDataset(Dataset):\n",
    "    \"\"\" Occupancy detection dataset\"\"\"\n",
    "    \n",
    "    def __init__(self, filename):\n",
    "        self.dataset = np.loadtxt(filename, skiprows=1, dtype = object, delimiter=',')\n",
    "        \n",
    "        self.data = np.array(self.dataset[:,2:7], dtype = float)\n",
    "        self.data = (self.data - self.data.mean())/self.data.std()\n",
    "        self.data = torch.from_numpy(self.data).float()\n",
    "        \n",
    "        self.target = np.array(self.dataset[:,7], dtype = float)\n",
    "        self.target = torch.from_numpy(self.target).float()\n",
    "        \n",
    "    def __len__(self):\n",
    "        return self.data.size()[0]\n",
    "    \n",
    "    def __getitem__(self, idx):\n",
    "        return (self.data[idx, :], self.target[idx])\n",
    "\n",
    "    \n",
    "# Setup datasets and loaders\n",
    "train_dataset = OccupancyDataset('train_data.txt')\n",
    "test_dataset = OccupancyDataset('test_data.txt')\n",
    "\n",
    "train_batch_size = 100\n",
    "test_batch_size = 100\n",
    "\n",
    "train_loader = DataLoader(train_dataset, batch_size = train_batch_size, shuffle = False)\n",
    "test_loader = DataLoader(test_dataset, batch_size= test_batch_size, shuffle = False)"
   ]
  },
  {
   "cell_type": "markdown",
   "metadata": {},
   "source": [
    "## Create network class"
   ]
  },
  {
   "cell_type": "code",
   "execution_count": 3,
   "metadata": {},
   "outputs": [
    {
     "name": "stdout",
     "output_type": "stream",
     "text": [
      "Net(\n",
      "  (fc1): Linear(in_features=5, out_features=5, bias=True)\n",
      "  (fc2): Linear(in_features=5, out_features=1, bias=True)\n",
      ")\n"
     ]
    }
   ],
   "source": [
    "class Net(nn.Module):\n",
    "    \"\"\" Neural network with 1 hidden layer and sigmoid activations \"\"\"\n",
    "    \n",
    "    def __init__(self):\n",
    "        super(Net, self).__init__()\n",
    "        self.fc1 = nn.Linear(5,5)\n",
    "        self.fc2 = nn.Linear(5,1)\n",
    "        \n",
    "    def forward(self, x):\n",
    "        #print(x)\n",
    "        x = F.sigmoid(self.fc1(x))\n",
    "        return F.sigmoid(self.fc2(x))\n",
    "    \n",
    "n = Net()\n",
    "print(n)\n",
    "#print(list( n.parameters()) )"
   ]
  },
  {
   "cell_type": "markdown",
   "metadata": {},
   "source": [
    "## Setting variables"
   ]
  },
  {
   "cell_type": "code",
   "execution_count": 4,
   "metadata": {},
   "outputs": [
    {
     "name": "stdout",
     "output_type": "stream",
     "text": [
      "[Parameter containing:\n",
      "0.1375858188 -0.2649408281 -0.4097303450 -0.1729954183 -0.1228315830\n",
      "-0.2421568632 0.3503617644 0.0933097005 -0.3012712598 -0.2139696926\n",
      "-0.1036989987 -0.2980346382 -0.1214510202 0.1840012074 0.4101661444\n",
      "-0.0150365531 0.0649058819 0.2682735920 -0.2381616682 -0.2311115265\n",
      "-0.2867064476 0.3596637249 -0.0094849467 -0.2895666063 0.2844118476\n",
      "[torch.FloatTensor of size 5x5]\n",
      ", Parameter containing:\n",
      "0.1502001286\n",
      "-0.0486098826\n",
      "-0.1433329284\n",
      "-0.1370777190\n",
      "-0.0223564506\n",
      "[torch.FloatTensor of size 5]\n",
      ", Parameter containing:\n",
      "-0.1548205018 -0.0772991180 0.1621451974 -0.3623195887 0.3792951107\n",
      "[torch.FloatTensor of size 1x5]\n",
      ", Parameter containing:\n",
      "0.2953833342\n",
      "[torch.FloatTensor of size 1]\n",
      "]\n"
     ]
    }
   ],
   "source": [
    "net = Net()\n",
    "print(list(net.parameters()))\n",
    "epochs = 2000\n",
    "lr = 0.001\n",
    "optimizer = optim.SGD(net.parameters(), lr=lr, momentum=0.9)\n",
    "criterion = nn.BCELoss()"
   ]
  },
  {
   "cell_type": "markdown",
   "metadata": {},
   "source": [
    "## Train function"
   ]
  },
  {
   "cell_type": "code",
   "execution_count": 5,
   "metadata": {},
   "outputs": [],
   "source": [
    "def train(epoch):\n",
    "    # Train the network\n",
    "    running_loss = 0\n",
    "    count = 0\n",
    "    for i, data in enumerate(train_loader, 0):\n",
    "        optimizer.zero_grad()\n",
    "        inputs, target = data\n",
    "        inputs, target = Variable(inputs), Variable(target.float())\n",
    "        output = net(inputs).squeeze()\n",
    "        loss =  criterion(output, target)     \n",
    "        loss.backward()\n",
    "        optimizer.step()\n",
    "        running_loss += loss.data[0]\n",
    "        count +=1\n",
    "\n",
    "    return running_loss/count\n",
    "    \n",
    "    \n",
    "def get_acc(loader, dataset):\n",
    "    # Get accuracy (%) for train/test\n",
    "    correct = 0\n",
    "    total = 0\n",
    "    for i, data in enumerate(loader, 0):\n",
    "        inputs, target = data\n",
    "        inputs, target = Variable(inputs), Variable(target.float())\n",
    "        output = net(inputs).squeeze()\n",
    "        output = output>0.5\n",
    "        correct += (target.data.cpu().numpy() == output.data.cpu().numpy()).sum()\n",
    "        total += target.size(0)\n",
    "    return 100*int(correct)/int(total)\n",
    "    "
   ]
  },
  {
   "cell_type": "code",
   "execution_count": 6,
   "metadata": {
    "scrolled": false
   },
   "outputs": [
    {
     "name": "stdout",
     "output_type": "stream",
     "text": [
      "\n",
      "\n",
      "Loss after epoch 0: 0.7053903072345548\n",
      "Train Accuracy: 78.76703917475132\n",
      "Test Accuracy: 78.98892534864643\n",
      "\n",
      "\n",
      "Loss after epoch 100: 0.10930645995114635\n",
      "Train Accuracy: 98.82107331450325\n",
      "Test Accuracy: 96.70836751435603\n",
      "\n",
      "\n",
      "Loss after epoch 200: 0.06999576451234156\n",
      "Train Accuracy: 98.83335380081051\n",
      "Test Accuracy: 98.87202625102543\n",
      "Reached local minima at epoch: 201 with error: 1.1666461991894863\n"
     ]
    }
   ],
   "source": [
    "losses = []\n",
    "errors = []\n",
    "final_epoch = 0\n",
    "\n",
    "# Run epochs and store necessary metrics\n",
    "for i in range(epochs):\n",
    "    loss = train(i)\n",
    "    losses.append(loss)\n",
    "    train_acc = get_acc(train_loader, 'Train')\n",
    "    errors.append(100-train_acc)\n",
    "    test_acc = get_acc(test_loader, 'Test')\n",
    "    if i%100==0:\n",
    "        print('\\n')\n",
    "        print('Loss after epoch {1}: {0}'.format(loss, i))\n",
    "        print('Train Accuracy: {0}'.format(train_acc))\n",
    "        print('Test Accuracy: {0}'.format(test_acc))\n",
    "        \n",
    "        # Stop training based on below condition\n",
    "    if i>200 and errors[i-50]-errors[i] < 1e-2:\n",
    "        print('Reached local minima at epoch: {0} with error: {1}'.format(i, errors[i]))\n",
    "        final_epoch = i\n",
    "        break\n",
    "            \n"
   ]
  },
  {
   "cell_type": "code",
   "execution_count": 8,
   "metadata": {},
   "outputs": [
    {
     "data": {
      "text/plain": [
       "<matplotlib.legend.Legend at 0x1a1ca85e10>"
      ]
     },
     "execution_count": 8,
     "metadata": {},
     "output_type": "execute_result"
    },
    {
     "data": {
      "image/png": "[encoded data removed]",
      "text/plain": [
       "<matplotlib.figure.Figure at 0x1a1ca32e48>"
      ]
     },
     "metadata": {},
     "output_type": "display_data"
    }
   ],
   "source": [
    "# Plot training error\n",
    "plt.figure()\n",
    "plt.title('Training loss per epoch')\n",
    "plt.xlabel('Epoch')\n",
    "plt.ylabel('Error (%)')\n",
    "plt.plot(range(final_epoch+1), losses, label = 'SGD Error')\n",
    "\n",
    "# Plot baseline BCE error 13.447936\n",
    "plt.axhline(y=13.447936, color='r', linestyle='-', label = 'Baseline')\n",
    "plt.legend()\n",
    "#plt.plot( range)\n"
   ]
  },
  {
   "cell_type": "markdown",
   "metadata": {},
   "source": [
    "### Observations:\n",
    "\n",
    "    - Learning rate used was 0.001 with momentum = 0.9\n",
    "    - Final results \n",
    "        - Train Accuracy: 98.83335380081051\n",
    "        - Test Accuracy: 98.87202625102543\n",
    "    - Training was stopped on condition that epochs>200 and error decrease in previous 50 epochs less than 1e-2"
   ]
  },
  {
   "cell_type": "code",
   "execution_count": null,
   "metadata": {},
   "outputs": [],
   "source": []
  }
 ],
 "metadata": {
  "kernelspec": {
   "display_name": "Python 3",
   "language": "python",
   "name": "python3"
  },
  "language_info": {
   "codemirror_mode": {
    "name": "ipython",
    "version": 3
   },
   "file_extension": ".py",
   "mimetype": "text/x-python",
   "name": "python",
   "nbconvert_exporter": "python",
   "pygments_lexer": "ipython3",
   "version": "3.6.4"
  }
 },
 "nbformat": 4,
 "nbformat_minor": 2
}
