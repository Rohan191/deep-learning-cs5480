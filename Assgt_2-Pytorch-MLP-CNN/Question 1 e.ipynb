{
 "cells": [
  {
   "cell_type": "markdown",
   "metadata": {},
   "source": [
    "# Question 1.e"
   ]
  },
  {
   "cell_type": "code",
   "execution_count": 1,
   "metadata": {},
   "outputs": [
    {
     "data": {
      "text/plain": [
       "'0.3.1.post2'"
      ]
     },
     "execution_count": 1,
     "metadata": {},
     "output_type": "execute_result"
    }
   ],
   "source": [
    "import torch\n",
    "from torch.autograd import Variable\n",
    "import torch.nn as nn\n",
    "import torch.nn.functional as F\n",
    "from torch.utils.data import Dataset, DataLoader\n",
    "import torch.optim as optim\n",
    "import numpy as np\n",
    "import pandas as pd\n",
    "from sklearn.metrics import accuracy_score\n",
    "import matplotlib.pyplot as plt\n",
    "\n",
    "torch.set_printoptions(precision=10)\n",
    "torch.__version__"
   ]
  },
  {
   "cell_type": "markdown",
   "metadata": {},
   "source": [
    "## Load train and test dataset"
   ]
  },
  {
   "cell_type": "code",
   "execution_count": 2,
   "metadata": {},
   "outputs": [],
   "source": [
    "class OccupancyDataset(Dataset):\n",
    "    \"\"\" Occupancy detection dataset\"\"\"\n",
    "    \n",
    "    def __init__(self, filename):\n",
    "        self.dataset = np.loadtxt(filename, skiprows=1, dtype = object, delimiter=',')\n",
    "        \n",
    "        self.data = np.array(self.dataset[:,2:7], dtype = float)\n",
    "        self.data = (self.data - self.data.mean())/self.data.std()\n",
    "        self.data = torch.from_numpy(self.data).float()\n",
    "        \n",
    "        self.target = np.array(self.dataset[:,7], dtype = float)\n",
    "        self.target = torch.from_numpy(self.target).float()\n",
    "        \n",
    "    def __len__(self):\n",
    "        return self.data.size()[0]\n",
    "    \n",
    "    def __getitem__(self, idx):\n",
    "        return (self.data[idx, :], self.target[idx])\n",
    "\n",
    "    \n",
    "# Setup datasets and loaders\n",
    "train_dataset = OccupancyDataset('train_data.txt')\n",
    "test_dataset = OccupancyDataset('test_data.txt')\n",
    "\n",
    "train_batch_size = 100\n",
    "test_batch_size = 100\n",
    "\n",
    "train_loader = DataLoader(train_dataset, batch_size = train_batch_size, shuffle = False)\n",
    "test_loader = DataLoader(test_dataset, batch_size= test_batch_size, shuffle = False)"
   ]
  },
  {
   "cell_type": "markdown",
   "metadata": {},
   "source": [
    "## Create network class"
   ]
  },
  {
   "cell_type": "code",
   "execution_count": 3,
   "metadata": {},
   "outputs": [],
   "source": [
    "class Net(nn.Module):\n",
    "    \"\"\" Neural network with 1 hidden layer and sigmoid activations \"\"\"\n",
    "    \n",
    "    def __init__(self, h):\n",
    "        super(Net, self).__init__()\n",
    "        self.fc1 = nn.Linear(5,h)\n",
    "        self.fc2 = nn.Linear(h,1)\n",
    "        \n",
    "    def forward(self, x):\n",
    "        #print(x)\n",
    "        x = F.sigmoid(self.fc1(x))\n",
    "        return F.sigmoid(self.fc2(x))\n",
    " "
   ]
  },
  {
   "cell_type": "markdown",
   "metadata": {},
   "source": [
    "## Setting variables"
   ]
  },
  {
   "cell_type": "code",
   "execution_count": 4,
   "metadata": {},
   "outputs": [],
   "source": [
    "epochs = 2000\n",
    "lr = 0.001\n",
    "criterion = nn.BCELoss()"
   ]
  },
  {
   "cell_type": "markdown",
   "metadata": {},
   "source": [
    "## Train function"
   ]
  },
  {
   "cell_type": "code",
   "execution_count": 5,
   "metadata": {},
   "outputs": [],
   "source": [
    "def train(epoch):\n",
    "    # Train the network\n",
    "    running_loss = 0\n",
    "    count = 0\n",
    "    for i, data in enumerate(train_loader, 0):\n",
    "        optimizer.zero_grad()\n",
    "        inputs, target = data\n",
    "        inputs, target = Variable(inputs), Variable(target.float())\n",
    "        output = net(inputs).squeeze()\n",
    "        loss =  criterion(output, target)     \n",
    "        loss.backward()\n",
    "        optimizer.step()\n",
    "        running_loss += loss.data[0]\n",
    "        count +=1\n",
    "\n",
    "    return running_loss/count\n",
    "    \n",
    "    \n",
    "def get_acc(loader, dataset):\n",
    "    # Get accuracy (%) for train/test\n",
    "    correct = 0\n",
    "    total = 0\n",
    "    for i, data in enumerate(loader, 0):\n",
    "        inputs, target = data\n",
    "        inputs, target = Variable(inputs), Variable(target.float())\n",
    "        output = net(inputs).squeeze()\n",
    "        output = output>0.5\n",
    "        correct += (target.data.cpu().numpy() == output.data.cpu().numpy()).sum()\n",
    "        total += target.size(0)\n",
    "    return 100*int(correct)/int(total)\n",
    "    "
   ]
  },
  {
   "cell_type": "code",
   "execution_count": 7,
   "metadata": {
    "scrolled": false
   },
   "outputs": [
    {
     "name": "stdout",
     "output_type": "stream",
     "text": [
      "\n",
      "Starting training with h=1\n",
      "H = 1 Reached local minima at epoch: 201 with test accuracy: 98.28753076292043\n",
      "\n",
      "Starting training with h=2\n",
      "H = 2 Reached local minima at epoch: 201 with test accuracy: 98.12346185397867\n",
      "\n",
      "Starting training with h=5\n",
      "H = 5 Reached local minima at epoch: 201 with test accuracy: 97.56972928630024\n",
      "\n",
      "Starting training with h=10\n",
      "H = 10 Reached local minima at epoch: 201 with test accuracy: 97.23133716160787\n",
      "\n",
      "Starting training with h=20\n",
      "H = 20 Reached local minima at epoch: 201 with test accuracy: 97.22108285479902\n"
     ]
    }
   ],
   "source": [
    "hidden_units = [1, 2, 5, 10, 20]\n",
    "train_accuracies = []\n",
    "test_accuracies = []\n",
    "\n",
    "for h in hidden_units:\n",
    "    print('\\nStarting training with h={0}'.format(h))\n",
    "    net = Net(h)\n",
    "    acc = []\n",
    "    optimizer = optim.Adam(params = net.parameters(), lr=lr)\n",
    "    # Run epochs and store necessary metrics\n",
    "    for i in range(epochs):\n",
    "        loss = train(i)\n",
    "        train_acc = get_acc(train_loader, 'Train')\n",
    "        acc.append(train_acc)\n",
    "        test_acc = get_acc(test_loader, 'Test')\n",
    "        #if i%100==0:\n",
    "            #print('\\n')\n",
    "            #print('Loss after epoch {1}: {0}'.format(loss, i))\n",
    "            #print('Train Accuracy: {0}'.format(train_acc))\n",
    "            #print('Test Accuracy: {0}'.format(test_acc))\n",
    "\n",
    "            # Stop training based on below condition\n",
    "        if i>200 and acc[i]-acc[i-50] < 1e-2:\n",
    "            print('H = {2} Reached local minima at epoch: {0} with test accuracy: {1}'.format(i, test_acc, h))\n",
    "            train_accuracies.append(train_acc)\n",
    "            test_accuracies.append(test_acc)\n",
    "            break\n",
    "        if i+1 == epochs:\n",
    "            train_accuracies.append(train_acc)\n",
    "            test_accuracies.append(test_acc)\n",
    "            \n"
   ]
  },
  {
   "cell_type": "code",
   "execution_count": 8,
   "metadata": {},
   "outputs": [
    {
     "data": {
      "text/plain": [
       "<matplotlib.legend.Legend at 0x1a1ddbc4a8>"
      ]
     },
     "execution_count": 8,
     "metadata": {},
     "output_type": "execute_result"
    },
    {
     "data": {
      "image/png": "[encoded data removed]",
      "text/plain": [
       "<matplotlib.figure.Figure at 0x1a1dd7b978>"
      ]
     },
     "metadata": {},
     "output_type": "display_data"
    }
   ],
   "source": [
    "# Plot training error\n",
    "\n",
    "plt.figure()\n",
    "plt.title('Performance on number of hidden units')\n",
    "plt.xlabel('No. of hidden units')\n",
    "plt.ylabel('Accuracy (%)')\n",
    "plt.plot(hidden_units, train_accuracies, '-*', label = 'Training Accuracy')\n",
    "\n",
    "plt.plot(hidden_units, test_accuracies, '-o', label = 'Testing Accuracy')\n",
    "plt.legend()\n"
   ]
  },
  {
   "cell_type": "markdown",
   "metadata": {},
   "source": [
    "### Observations\n",
    "\n",
    "- Increase in hidden units causes overfitting on MNIST dataset.\n",
    "- As expected we see a decrease in test accuracy with increase in number of hidden units."
   ]
  },
  {
   "cell_type": "code",
   "execution_count": null,
   "metadata": {},
   "outputs": [],
   "source": []
  }
 ],
 "metadata": {
  "kernelspec": {
   "display_name": "Python 3",
   "language": "python",
   "name": "python3"
  },
  "language_info": {
   "codemirror_mode": {
    "name": "ipython",
    "version": 3
   },
   "file_extension": ".py",
   "mimetype": "text/x-python",
   "name": "python",
   "nbconvert_exporter": "python",
   "pygments_lexer": "ipython3",
   "version": "3.6.4"
  }
 },
 "nbformat": 4,
 "nbformat_minor": 2
}
